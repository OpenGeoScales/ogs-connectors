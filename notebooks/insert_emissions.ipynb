{
 "cells": [
  {
   "cell_type": "code",
   "execution_count": null,
   "id": "altered-ministry",
   "metadata": {},
   "outputs": [],
   "source": [
    "import pymongo\n",
    "import pandas as pd\n",
    "import os\n",
    "import json\n",
    "from tqdm import tqdm\n",
    "import logging\n",
    "\n",
    "logger = logging.getLogger('test_emissions_integration')\n",
    "logger.setLevel('INFO')"
   ]
  },
  {
   "cell_type": "code",
   "execution_count": null,
   "id": "invalid-liverpool",
   "metadata": {},
   "outputs": [],
   "source": [
    "catalog.list()"
   ]
  },
  {
   "cell_type": "markdown",
   "id": "delayed-detroit",
   "metadata": {},
   "source": [
    "## MongoDB / Collection parameters"
   ]
  },
  {
   "cell_type": "code",
   "execution_count": null,
   "id": "premium-strand",
   "metadata": {},
   "outputs": [],
   "source": [
    "DATABASE_NAME = 'ogs'\n",
    "GEO_COMPONENTS_COLLECTION_NAME = 'geo_components'\n",
    "DATA_SOURCES_COLLECTION_NAME = 'data_sources'\n",
    "EMISSIONS_COLLECTION_NAME = 'emissions'\n",
    "\n",
    "client = pymongo.MongoClient(\"mongodb://localhost:27017/\")\n",
    "db = client.get_database(DATABASE_NAME)"
   ]
  },
  {
   "cell_type": "code",
   "execution_count": null,
   "id": "varying-heart",
   "metadata": {},
   "outputs": [],
   "source": [
    "geo_components_collection = db[GEO_COMPONENTS_COLLECTION_NAME]\n",
    "data_sources_collection = db[DATA_SOURCES_COLLECTION_NAME]\n",
    "emissions_collection = db[EMISSIONS_COLLECTION_NAME]"
   ]
  },
  {
   "cell_type": "code",
   "execution_count": null,
   "id": "still-clothing",
   "metadata": {},
   "outputs": [],
   "source": [
    "# db.drop_collection(EMISSIONS_COLLECTION_NAME)"
   ]
  },
  {
   "cell_type": "markdown",
   "id": "detailed-taxation",
   "metadata": {},
   "source": [
    "## Helper functions"
   ]
  },
  {
   "cell_type": "code",
   "execution_count": null,
   "id": "fleet-assistant",
   "metadata": {},
   "outputs": [],
   "source": [
    "def get_geo_components():\n",
    "    return list(geo_components_collection.find({}))\n",
    "\n",
    "def get_data_sources():\n",
    "    return list(data_sources_collection.find({}))\n",
    "\n",
    "def cast_json(line):\n",
    "    try:\n",
    "        json_sample = json.loads(line)\n",
    "    except:\n",
    "        logging.error('Failed to parse to json:', line)\n",
    "        return {}\n",
    "    return json_sample"
   ]
  },
  {
   "cell_type": "markdown",
   "id": "decimal-conference",
   "metadata": {},
   "source": [
    "## Core functions"
   ]
  },
  {
   "cell_type": "code",
   "execution_count": null,
   "id": "banner-massage",
   "metadata": {},
   "outputs": [],
   "source": [
    "def find_geo_component(geo_component, ref_geo_components):\n",
    "    \"\"\"\n",
    "    Given a geo_component, return its id in the referential, None if not found\n",
    "    \"\"\"\n",
    "    # Get geo_component identifier type\n",
    "    identifier_type = geo_component['identifier']['type']\n",
    "    \n",
    "    for ref_geo_component in ref_geo_components:\n",
    "        # Check whether or not identifier is known for this ref_geo_component\n",
    "        if identifier_type not in ref_geo_component['identifiers']:\n",
    "            continue\n",
    "            \n",
    "        if ref_geo_component['identifiers'][identifier_type] == geo_component['identifier']['id']:\n",
    "            return ref_geo_component['_id']\n",
    "        \n",
    "    return None   \n",
    "\n",
    "\n",
    "def find_data_source(data_source, ref_data_sources):\n",
    "    \"\"\"\n",
    "    Given a data_source, return its id in the referential, None if not found\n",
    "    \"\"\"\n",
    "    for ref_data_source in ref_data_sources:\n",
    "        if data_source['name'] == ref_data_source['name']:\n",
    "            return ref_data_source['_id']\n",
    "    \n",
    "    return None"
   ]
  },
  {
   "cell_type": "code",
   "execution_count": null,
   "id": "british-blair",
   "metadata": {},
   "outputs": [],
   "source": [
    "class InsertEmissionError(Exception):\n",
    "    pass\n",
    "\n",
    "\n",
    "def insert_emission(emission, ref_geo_components, ref_data_sources):\n",
    "    \"\"\"\n",
    "    Given an emission and referentials, try to insert the emission\n",
    "    \"\"\"\n",
    "    # Get geo_component id\n",
    "    geo_component_id = find_geo_component(\n",
    "        geo_component=emission['geo_component'],\n",
    "        ref_geo_components=ref_geo_components\n",
    "    )\n",
    "    \n",
    "    if not geo_component_id:\n",
    "        raise InsertEmissionError('geo_component not found: %s' % emission['geo_component'])\n",
    "        \n",
    "    # Get data_source id\n",
    "    data_source_id = find_data_source(\n",
    "        data_source=emission['data_source'],\n",
    "        ref_data_sources=ref_data_sources\n",
    "    )\n",
    "    \n",
    "    if not data_source_id:\n",
    "        raise InsertEmissionError('data_source not found: %s' % emission['data_source'])\n",
    "        \n",
    "    # Format document\n",
    "    emission_document = {\n",
    "        'geo_component_id': geo_component_id,\n",
    "        'data_source_id': data_source_id,\n",
    "        'date': emission['date'],\n",
    "        'gas': emission['emission']['gas'],\n",
    "        'value': emission['emission']['value'],\n",
    "        'unit': emission['emission']['unit'],\n",
    "        'sector': emission['emission']['sector_name'],\n",
    "        'subsector': emission['emission']['subsector_name']        \n",
    "    }\n",
    "    \n",
    "    emissions_collection.insert_one(emission_document)\n",
    "    \n",
    "\n",
    "def insert_emissions(emissions):\n",
    "    \"\"\"\n",
    "    Given a list of emissions, insert them into the collection\n",
    "    \"\"\"\n",
    "    ref_geo_components = get_geo_components()\n",
    "    ref_data_sources = get_data_sources()\n",
    "    \n",
    "    nb_inserted = 0\n",
    "    nb_failed = 0\n",
    "    \n",
    "    for emission in tqdm(emissions):\n",
    "        try:\n",
    "            insert_emission(emission, ref_geo_components, ref_data_sources)\n",
    "            nb_inserted += 1\n",
    "        except InsertEmissionError as e:\n",
    "            logger.error('Failed to insert emission: %s' % e)\n",
    "            nb_failed += 1\n",
    "            \n",
    "    logger.info('Succesfully inserted %s emissions.' % nb_inserted)\n",
    "    if nb_failed:\n",
    "        logger.warning('Failed to insert %s emissions. See logs for details.' % nb_failed)"
   ]
  },
  {
   "cell_type": "markdown",
   "id": "minute-glance",
   "metadata": {},
   "source": [
    "## Testing\n",
    "\n",
    "### Try to find geo_components"
   ]
  },
  {
   "cell_type": "code",
   "execution_count": null,
   "id": "strange-valve",
   "metadata": {},
   "outputs": [],
   "source": [
    "ref_geo_components = get_geo_components()\n",
    "\n",
    "geo_component = {\n",
    "    'type': 'country',\n",
    "    'identifier': {\n",
    "        'id': 'AFG', \n",
    "        'type': 'alpha-3'\n",
    "    }\n",
    "}\n",
    "\n",
    "find_geo_component(geo_component, ref_geo_components)"
   ]
  },
  {
   "cell_type": "code",
   "execution_count": null,
   "id": "beginning-assignment",
   "metadata": {},
   "outputs": [],
   "source": [
    "geo_component = {\n",
    "    'type': 'country',\n",
    "    'identifier': {\n",
    "        'id': 'FR', \n",
    "        'type': 'alpha-3'\n",
    "    }\n",
    "}\n",
    "\n",
    "print(find_geo_component(geo_component, ref_geo_components))"
   ]
  },
  {
   "cell_type": "markdown",
   "id": "single-possession",
   "metadata": {},
   "source": [
    "### Insert some emissions (gcp)"
   ]
  },
  {
   "cell_type": "code",
   "execution_count": null,
   "id": "inner-audio",
   "metadata": {},
   "outputs": [],
   "source": [
    "# Read gcp file\n",
    "with open('./../data/01_raw/gcp-carbon-v2.json', 'r') as f:\n",
    "    lines = f.readlines()\n",
    "\n",
    "# Transform to json\n",
    "emissions = [\n",
    "    cast_json(line) for line in lines\n",
    "]"
   ]
  },
  {
   "cell_type": "code",
   "execution_count": null,
   "id": "simplified-receptor",
   "metadata": {},
   "outputs": [],
   "source": [
    "emissions[:5]"
   ]
  },
  {
   "cell_type": "code",
   "execution_count": null,
   "id": "aboriginal-occasions",
   "metadata": {},
   "outputs": [],
   "source": [
    "# Insert first 5000 emissions\n",
    "insert_emissions(emissions[:5000])"
   ]
  },
  {
   "cell_type": "markdown",
   "id": "armed-piece",
   "metadata": {},
   "source": [
    "### KO emissions"
   ]
  },
  {
   "cell_type": "code",
   "execution_count": null,
   "id": "attached-jersey",
   "metadata": {},
   "outputs": [],
   "source": [
    "# Define some wrong emissions\n",
    "\n",
    "KO_emissions = [\n",
    "    \n",
    "    # OK\n",
    "    {'data_source': {'name': 'GCP'},\n",
    "    'geo_component': {'type': 'country',\n",
    "    'identifier': {'id': 'AFG', 'type': 'alpha-3'}},\n",
    "    'date': '1949-01-01',\n",
    "    'emission': {'gas': 'CO2',\n",
    "    'value': 0.004,\n",
    "    'unit': 'MtC',\n",
    "    'sector_name': 'Territorial Emissions',\n",
    "    'subsector_name': 'Coal'}},\n",
    "    \n",
    "    # Wrong geo component\n",
    "    {'data_source': {'name': 'GCP'},\n",
    "    'geo_component': {'type': 'country',\n",
    "    'identifier': {'id': 'FRRRRRRRRRRRRRRRRRR', 'type': 'alpha-3'}},\n",
    "    'date': '1949-01-01',\n",
    "    'emission': {'gas': 'CO2',\n",
    "    'value': 0.0,\n",
    "    'unit': 'MtC',\n",
    "    'sector_name': 'Territorial Emissions',\n",
    "    'subsector_name': 'Oil'}},\n",
    "    \n",
    "    # Wrong data source\n",
    "    {'data_source': {'name': 'OKF'},\n",
    "    'geo_component': {'type': 'country',\n",
    "    'identifier': {'id': 'AFG', 'type': 'alpha-3'}},\n",
    "    'date': '1949-01-01',\n",
    "    'emission': {'gas': 'CO2',\n",
    "    'value': 0.0,\n",
    "    'unit': 'MtC',\n",
    "    'sector_name': 'Territorial Emissions',\n",
    "    'subsector_name': 'Gas'}}\n",
    "]\n",
    " "
   ]
  },
  {
   "cell_type": "code",
   "execution_count": null,
   "id": "narrow-uganda",
   "metadata": {},
   "outputs": [],
   "source": [
    "insert_emissions(KO_emissions)"
   ]
  },
  {
   "cell_type": "markdown",
   "id": "recorded-gibraltar",
   "metadata": {},
   "source": [
    "## Collection exploration\n",
    "\n",
    "\n",
    "All emissions:"
   ]
  },
  {
   "cell_type": "code",
   "execution_count": null,
   "id": "sized-texture",
   "metadata": {},
   "outputs": [],
   "source": [
    "list(emissions_collection.find({}))"
   ]
  },
  {
   "cell_type": "markdown",
   "id": "available-consultancy",
   "metadata": {},
   "source": [
    "Emissions on 1949-01-01"
   ]
  },
  {
   "cell_type": "code",
   "execution_count": null,
   "id": "guilty-return",
   "metadata": {},
   "outputs": [],
   "source": [
    "list(emissions_collection.find({'date': '1949-01-01'}))"
   ]
  },
  {
   "cell_type": "markdown",
   "id": "several-hudson",
   "metadata": {},
   "source": [
    "Afghanistan's emissions"
   ]
  },
  {
   "cell_type": "code",
   "execution_count": null,
   "id": "confident-mirror",
   "metadata": {},
   "outputs": [],
   "source": [
    "geo_component = {\n",
    "    'type': 'country',\n",
    "    'identifier': {\n",
    "        'id': 'AFG', \n",
    "        'type': 'alpha-3'\n",
    "    }\n",
    "}\n",
    "\n",
    "afg_id = find_geo_component(geo_component, ref_geo_components)\n",
    "\n",
    "afg_emissions = list(emissions_collection.find({'geo_component_id': afg_id}))"
   ]
  },
  {
   "cell_type": "code",
   "execution_count": null,
   "id": "compatible-prince",
   "metadata": {},
   "outputs": [],
   "source": [
    "afg_emissions"
   ]
  },
  {
   "cell_type": "code",
   "execution_count": null,
   "id": "ranking-atlas",
   "metadata": {},
   "outputs": [],
   "source": [
    "print(len(afg_emissions))"
   ]
  }
 ],
 "metadata": {
  "kernelspec": {
   "display_name": "OGSConnectors",
   "language": "python",
   "name": "python3"
  },
  "language_info": {
   "codemirror_mode": {
    "name": "ipython",
    "version": 3
   },
   "file_extension": ".py",
   "mimetype": "text/x-python",
   "name": "python",
   "nbconvert_exporter": "python",
   "pygments_lexer": "ipython3",
   "version": "3.8.8"
  }
 },
 "nbformat": 4,
 "nbformat_minor": 5
}
