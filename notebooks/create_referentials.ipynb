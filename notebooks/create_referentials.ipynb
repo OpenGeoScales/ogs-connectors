{
 "cells": [
  {
   "cell_type": "code",
   "execution_count": null,
   "id": "blind-asset",
   "metadata": {},
   "outputs": [],
   "source": [
    "%reload_kedro"
   ]
  },
  {
   "cell_type": "code",
   "execution_count": null,
   "id": "packed-afghanistan",
   "metadata": {},
   "outputs": [],
   "source": [
    "import pymongo\n",
    "import pandas as pd\n",
    "import os\n",
    "import json"
   ]
  },
  {
   "cell_type": "code",
   "execution_count": null,
   "id": "thick-crack",
   "metadata": {},
   "outputs": [],
   "source": [
    "catalog.list()"
   ]
  },
  {
   "cell_type": "code",
   "execution_count": null,
   "id": "looking-cooperation",
   "metadata": {},
   "outputs": [],
   "source": [
    "DATABASE_NAME = 'ogs'\n",
    "GEO_COMPONENTS_COLLECTION_NAME = 'geo_components'\n",
    "DATA_SOURCES_COLLECTION_NAME = 'data_sources'\n",
    "\n",
    "client = pymongo.MongoClient(\"mongodb://localhost:27017/\")\n",
    "db = client.get_database(DATABASE_NAME)"
   ]
  },
  {
   "cell_type": "code",
   "execution_count": null,
   "id": "vital-extraction",
   "metadata": {},
   "outputs": [],
   "source": [
    "def cast_json(line):\n",
    "    try:\n",
    "        json_sample = json.loads(line)\n",
    "    except:\n",
    "        print('failed to parse to json:', line)\n",
    "        return {}\n",
    "    return json_sample"
   ]
  },
  {
   "cell_type": "markdown",
   "id": "recent-housing",
   "metadata": {},
   "source": [
    "# geo_components\n",
    "\n",
    "Delete existing geo_components collection"
   ]
  },
  {
   "cell_type": "code",
   "execution_count": null,
   "id": "worth-despite",
   "metadata": {},
   "outputs": [],
   "source": [
    "db.drop_collection(GEO_COMPONENTS_COLLECTION_NAME)\n",
    "db.create_collection(GEO_COMPONENTS_COLLECTION_NAME)\n",
    "geo_components_collection = db[GEO_COMPONENTS_COLLECTION_NAME]"
   ]
  },
  {
   "cell_type": "code",
   "execution_count": null,
   "id": "minor-oxygen",
   "metadata": {},
   "outputs": [],
   "source": [
    "## Create some geo_components from GCP data\n",
    "def get_sample_countries_geo_components():\n",
    "    # Read gcp file\n",
    "    with open('./../data/01_raw/gcp-carbon-v2.json', 'r') as f:\n",
    "        lines = f.readlines()\n",
    "        \n",
    "    # Transform to json\n",
    "    jsons = [\n",
    "        cast_json(line) for line in lines\n",
    "    ]\n",
    "    \n",
    "    # Extract geo components\n",
    "    geo_components = [\n",
    "        json_sample['geo_component'] for json_sample in jsons\n",
    "    ]\n",
    "    \n",
    "    # Distinct dicts\n",
    "    countries = list({v['identifier']['id']:v for v in geo_components}.values())\n",
    "    \n",
    "    # Format\n",
    "    ref_countries = [\n",
    "        {\n",
    "            'type': 'Country',\n",
    "            'identifiers': {\n",
    "                'alpha-3': country['identifier']['id']\n",
    "            }\n",
    "        }\n",
    "        for country in countries\n",
    "    ]\n",
    "       \n",
    "    return ref_countries"
   ]
  },
  {
   "cell_type": "code",
   "execution_count": null,
   "id": "uniform-inside",
   "metadata": {},
   "outputs": [],
   "source": [
    "countries = get_sample_countries_geo_components()\n",
    "\n",
    "geo_components_collection.insert_many(countries)"
   ]
  },
  {
   "cell_type": "markdown",
   "id": "american-archive",
   "metadata": {},
   "source": [
    "# data_sources"
   ]
  },
  {
   "cell_type": "code",
   "execution_count": null,
   "id": "suitable-fruit",
   "metadata": {},
   "outputs": [],
   "source": [
    "db.drop_collection(DATA_SOURCES_COLLECTION_NAME)\n",
    "db.create_collection(DATA_SOURCES_COLLECTION_NAME)\n",
    "data_sources_collection = db[DATA_SOURCES_COLLECTION_NAME]"
   ]
  },
  {
   "cell_type": "code",
   "execution_count": null,
   "id": "fifth-humanitarian",
   "metadata": {},
   "outputs": [],
   "source": [
    "data_sources = catalog.load('data_sources')\n",
    "\n",
    "data_sources = data_sources.split('\\n')\n",
    "\n",
    "data_sources = [\n",
    "    cast_json(data_source) for data_source in data_sources\n",
    "]"
   ]
  },
  {
   "cell_type": "code",
   "execution_count": null,
   "id": "scenic-tyler",
   "metadata": {},
   "outputs": [],
   "source": [
    "data_sources"
   ]
  },
  {
   "cell_type": "code",
   "execution_count": null,
   "id": "great-wireless",
   "metadata": {},
   "outputs": [],
   "source": [
    "data_sources_collection.insert_many(data_sources)"
   ]
  },
  {
   "cell_type": "markdown",
   "id": "stuffed-traveler",
   "metadata": {},
   "source": [
    "# Exploration"
   ]
  },
  {
   "cell_type": "code",
   "execution_count": null,
   "id": "planned-province",
   "metadata": {},
   "outputs": [],
   "source": [
    "list(geo_components_collection.find({}))"
   ]
  },
  {
   "cell_type": "code",
   "execution_count": null,
   "id": "chubby-suspect",
   "metadata": {},
   "outputs": [],
   "source": [
    "list(data_sources_collection.find({}))"
   ]
  }
 ],
 "metadata": {
  "kernelspec": {
   "display_name": "OGSConnectors",
   "language": "python",
   "name": "python3"
  },
  "language_info": {
   "codemirror_mode": {
    "name": "ipython",
    "version": 3
   },
   "file_extension": ".py",
   "mimetype": "text/x-python",
   "name": "python",
   "nbconvert_exporter": "python",
   "pygments_lexer": "ipython3",
   "version": "3.8.8"
  }
 },
 "nbformat": 4,
 "nbformat_minor": 5
}
